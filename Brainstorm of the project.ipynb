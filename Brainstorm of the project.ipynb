{
 "cells": [
  {
   "cell_type": "code",
   "execution_count": null,
   "id": "1047ffd7",
   "metadata": {},
   "outputs": [],
   "source": [
    "#Predict score based on player stats\n",
    "\n",
    "#Correlations between shots, shots on target and goals scored.\n",
    "\n",
    "#Predict number of followers based on stats? Goals scored? On club? On position?\n",
    "\n",
    "#Predict Fouls committed/Yellow cards/Red cards based on club/position stats/defending stats?"
   ]
  },
  {
   "cell_type": "code",
   "execution_count": null,
   "id": "ab9f4c34",
   "metadata": {},
   "outputs": [],
   "source": [
    "##CHALLENGE: Put together all the code so that the final deliverable is a function. \n",
    "#The 'evaluator' will only need to introduce a path of the dataset, and it'll work from there."
   ]
  },
  {
   "cell_type": "code",
   "execution_count": null,
   "id": "fae6e279",
   "metadata": {},
   "outputs": [],
   "source": [
    "##Description by Felipe\n",
    "\n",
    "#Do some data analysis. That is, don't just run an algorithm, but plot some data and extract conclusions.\n",
    "\n",
    "#Then, also decide how to apply ML algorithm to answer research questions that we pose."
   ]
  }
 ],
 "metadata": {
  "kernelspec": {
   "display_name": "Python 3",
   "language": "python",
   "name": "python3"
  },
  "language_info": {
   "codemirror_mode": {
    "name": "ipython",
    "version": 3
   },
   "file_extension": ".py",
   "mimetype": "text/x-python",
   "name": "python",
   "nbconvert_exporter": "python",
   "pygments_lexer": "ipython3",
   "version": "3.8.8"
  }
 },
 "nbformat": 4,
 "nbformat_minor": 5
}
